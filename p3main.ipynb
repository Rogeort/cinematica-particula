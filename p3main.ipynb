{
  "nbformat": 4,
  "nbformat_minor": 0,
  "metadata": {
    "colab": {
      "provenance": [],
      "authorship_tag": "ABX9TyPoeL0kzHmbU2W6ZuIjq0B2",
      "include_colab_link": true
    },
    "kernelspec": {
      "name": "jupyter_matlab_kernel",
      "display_name": "MATLAB Kernel"
    }
  },
  "cells": [
    {
      "cell_type": "markdown",
      "metadata": {
        "id": "view-in-github",
        "colab_type": "text"
      },
      "source": [
        "<a href=\"https://colab.research.google.com/github/Rogeort/cinematica-particula/blob/main/p3main.ipynb\" target=\"_parent\"><img src=\"https://colab.research.google.com/assets/colab-badge.svg\" alt=\"Open In Colab\"/></a>"
      ]
    },
    {
      "cell_type": "markdown",
      "source": [
        "# Practica 3. Movimiento rectilineo en coordenadas rectangulares: tiro parabolico"
      ],
      "metadata": {
        "id": "XRJ1BE6BQ16Y"
      }
    },
    {
      "cell_type": "markdown",
      "source": [
        "## Condiciones iniciales"
      ],
      "metadata": {
        "id": "BGteA1V6rlSR"
      }
    },
    {
      "cell_type": "markdown",
      "source": [
        "Partiendo del vector de aceleracion $$a(t) = -9.81    \\boldsymbol{\\hat{\\textbf{j}}}    $$ y la condicion inicial de velocidad $$  v(0) = V_0 \\cdot \\cos\\theta  \\boldsymbol{\\hat{\\textbf{i}}} + V_0 \\cdot \\sin\\theta \\boldsymbol{\\hat{\\textbf{j}}} $$"
      ],
      "metadata": {
        "id": "x4qHfqEJIWrc"
      }
    },
    {
      "cell_type": "code",
      "source": [
        "syms t V0 theta\n",
        "\n",
        "V0 = 10;\n",
        "% grados to radianes\n",
        "theta = sym(37 * pi / 180);\n",
        "\n",
        "% Aceleración constante\n",
        "a = [0; -9.81];  % Aceleración en el vector\n",
        "\n",
        "% Componentes de la velocidad inicial\n",
        "v0_x = V0 * cos(theta);  % Componente en el eje x\n",
        "v0_y = V0 * sin(theta);  % Componente en el eje y\n",
        "v0 = [v0_x; v0_y];  % Vector de velocidad inicial\n",
        "\n",
        "% Integrar la aceleración para obtener la velocidad\n",
        "v = int(a, t) + v0;  % Integración de la aceleración con la velocidad inicial\n",
        "vf = matlabFunction(v); %conversion a f de mat\n",
        "\n",
        "% Integrar la velocidad para obtener la posición\n",
        "r0 = [0; 0];  % posición inicial es cero\n",
        "r = int(v, t) + r0;  % Integración de la velocidad con la posición inicial\n",
        "disp('Posición en función del tiempo:');\n",
        "disp(r)\n",
        "r = matlabFunction(r);\n",
        "\n",
        "% Mostrar los resultados\n",
        "disp('Velocidad en función del tiempo:');\n",
        "disp(v);\n",
        "\n",
        "\n",
        "\n"
      ],
      "metadata": {
        "colab": {
          "base_uri": "https://localhost:8080/",
          "height": 137
        },
        "id": "S0uJ8qdyroiA",
        "outputId": "49010e60-fb8f-4198-ea89-bce3b6ca1138"
      },
      "execution_count": 148,
      "outputs": [
        {
          "output_type": "stream",
          "name": "stdout",
          "text": [
            "Posición en función del tiempo:\n"
          ]
        },
        {
          "output_type": "execute_result",
          "data": {
            "text/latex": "$\\left(\\begin{array}{c}\n10\\,t\\,\\cos \\left(\\frac{37\\,\\pi }{180}\\right)\\\\\n10\\,t\\,\\sin \\left(\\frac{37\\,\\pi }{180}\\right)-\\frac{981\\,t^2 }{200}\n\\end{array}\\right)$"
          },
          "metadata": {},
          "execution_count": 148
        },
        {
          "output_type": "stream",
          "name": "stdout",
          "text": [
            "Velocidad en función del tiempo:\n"
          ]
        },
        {
          "output_type": "execute_result",
          "data": {
            "text/latex": "$\\left(\\begin{array}{c}\n10\\,\\cos \\left(\\frac{37\\,\\pi }{180}\\right)\\\\\n10\\,\\sin \\left(\\frac{37\\,\\pi }{180}\\right)-\\frac{981\\,t}{100}\n\\end{array}\\right)$"
          },
          "metadata": {},
          "execution_count": 148
        }
      ]
    },
    {
      "cell_type": "markdown",
      "source": [
        "Una vez obtenidos los vectores de velocidad $v(x)$y posicion $r(T)$ respecto del tiempo se grafica $r(t)$ en un intervalo $$  0 \\leq t \\leq 10  $$. SIn embargo consideramos aquellos puntos a graficar en los que se cumpla que $$ r_j \\geq 0 $$"
      ],
      "metadata": {
        "id": "kaQxxkycquX3"
      }
    },
    {
      "cell_type": "code",
      "source": [
        "t_values = linspace(0,5);\n",
        "result = zeros(2,100);\n",
        "figure;\n",
        "hold on;\n",
        "grid on;\n",
        "xlabel('position x');\n",
        "ylabel('position y');\n",
        "title('Trajectory of a projectile');\n",
        "\n",
        "\n",
        "\n",
        "for i = 1:length(t_values)\n",
        "    result(:,i) = r(t_values(i));\n",
        "\n",
        "if result(2, i) < 0\n",
        "        break;\n",
        "    end\n",
        "\n",
        "\n",
        "    plot(result(1,i), result(2,i), 'bo');\n",
        "    pause(0.01);\n",
        "end\n"
      ],
      "metadata": {
        "colab": {
          "base_uri": "https://localhost:8080/",
          "height": 437
        },
        "id": "aigS2y6QNCkn",
        "outputId": "50d2017e-2a69-472d-95cf-da8eb13c10de"
      },
      "execution_count": 178,
      "outputs": [
        {
          "output_type": "execute_result",
          "data": {
            "image/png": "[encoded data removed]"
          },
          "metadata": {},
          "execution_count": 178
        }
      ]
    },
    {
      "cell_type": "markdown",
      "source": [
        "Obteniendo los valores evaluados de $r(t)$ enn ambos ejes, la grafica se genera tomando un intervalo de $$ 0\\leq t \\leq 5 $$ en 100 puntos, por tanto se evalua que las posiciones $$r_i \\geq 0$$ y $$r_j \\geq 0$$"
      ],
      "metadata": {
        "id": "3IN4e6wL4Igf"
      }
    },
    {
      "cell_type": "code",
      "source": [
        "% Print table headers\n",
        "fprintf(' t      r_i (x)      r_j (y)\\n');\n",
        "fprintf('----------------------------\\n');\n",
        "\n",
        "for i = 1:length(t_values)\n",
        "    t = t_values(i);\n",
        "    x = result(1,i);\n",
        "    y = result(2,i);\n",
        "\n",
        "    if (x==0 && y == 0) && i>1\n",
        "        break;\n",
        "    end\n",
        "\n",
        "    fprintf('%2.3f    %2.3f       %2.3f \\n', t, x, y);\n",
        "end"
      ],
      "metadata": {
        "colab": {
          "base_uri": "https://localhost:8080/"
        },
        "id": "MgpgKac4NaXn",
        "outputId": "5fed3ae1-f224-41ae-ecfe-2c2b7eb77615"
      },
      "execution_count": 220,
      "outputs": [
        {
          "output_type": "stream",
          "name": "stdout",
          "text": [
            " t      r_i (x)      r_j (y)\n",
            "----------------------------\n",
            "0.000    0.000       0.000 \n",
            "0.051    0.403       0.291 \n",
            "0.101    0.807       0.558 \n",
            "0.152    1.210       0.799 \n",
            "0.202    1.613       1.016 \n",
            "0.253    2.017       1.207 \n",
            "0.303    2.420       1.373 \n",
            "0.354    2.823       1.515 \n",
            "0.404    3.227       1.631 \n",
            "0.455    3.630       1.722 \n",
            "0.505    4.034       1.788 \n",
            "0.556    4.437       1.830 \n",
            "0.606    4.840       1.846 \n",
            "0.657    5.244       1.837 \n",
            "0.707    5.647       1.803 \n",
            "0.758    6.050       1.744 \n",
            "0.808    6.454       1.660 \n",
            "0.859    6.857       1.551 \n",
            "0.909    7.260       1.417 \n",
            "0.960    7.664       1.258 \n",
            "1.010    8.067       1.074 \n",
            "1.061    8.470       0.865 \n",
            "1.111    8.874       0.631 \n",
            "1.162    9.277       0.372 \n",
            "1.212    9.680       0.088 \n",
            "1.263    10.084       -0.221 \n"
          ]
        }
      ]
    },
    {
      "cell_type": "markdown",
      "source": [
        "Evaluando las magnitudes de la velocidad y aceleracion respecto del tiempo"
      ],
      "metadata": {
        "id": "VrMoFKbT5r5B"
      }
    },
    {
      "cell_type": "code",
      "source": [
        "vm= zeros(1, 100); %crear array de velocidad en magniutd"
      ],
      "metadata": {
        "id": "Rq-v76Dg6rHv"
      },
      "execution_count": 244,
      "outputs": []
    },
    {
      "cell_type": "code",
      "source": [
        "%evaluando el vector vf\n",
        "\n",
        "clear result;\n",
        "\n",
        "result = zeros(2,100);\n",
        "for i = 1:length(t_values)\n",
        "    result(:,i) = vf(t_values(i));\n",
        "end\n",
        "%luego obteniendo la magnitud de la velocidad\n",
        "\n",
        "for i= 1:length(vm)\n",
        "    vm(i) = norm(result(:,i));\n",
        "end\n",
        "\n",
        "figure;\n",
        "hold on;\n",
        "grid on;\n",
        "xlabel('t');\n",
        "ylabel('magnitud v(t)');\n",
        "title('Magnitud de la velocidad en function del tiempo');\n",
        "plot(t_values, vm);\n"
      ],
      "metadata": {
        "colab": {
          "base_uri": "https://localhost:8080/",
          "height": 437
        },
        "id": "SAnUk1Q76HZ3",
        "outputId": "1615e376-1ef9-47bb-cf1e-17ff7c2d93c7"
      },
      "execution_count": 254,
      "outputs": [
        {
          "output_type": "execute_result",
          "data": {
            "image/png": "[encoded data removed]"
          },
          "metadata": {},
          "execution_count": 254
        }
      ]
    },
    {
      "cell_type": "code",
      "source": [],
      "metadata": {
        "colab": {
          "base_uri": "https://localhost:8080/"
        },
        "id": "j2ZldX446KZc",
        "outputId": "6b570623-992e-4513-9bc6-6ca2462155b1"
      },
      "execution_count": 272,
      "outputs": [
        {
          "output_type": "stream",
          "name": "stderr",
          "text": [
            "Input arguments to function include colon operator. To input the colon character, use ':' instead."
          ]
        }
      ]
    },
    {
      "cell_type": "code",
      "source": [],
      "metadata": {
        "id": "tCISRnmPRBQW"
      },
      "execution_count": null,
      "outputs": []
    }
  ]
}