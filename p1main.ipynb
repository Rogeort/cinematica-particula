{
  "cells": [
    {
      "cell_type": "markdown",
      "metadata": {
        "id": "view-in-github",
        "colab_type": "text"
      },
      "source": [
        "<a href=\"https://colab.research.google.com/github/Rogeort/cinematica-particula/blob/main/p1main.ipynb\" target=\"_parent\"><img src=\"https://colab.research.google.com/assets/colab-badge.svg\" alt=\"Open In Colab\"/></a>"
      ]
    },
    {
      "cell_type": "markdown",
      "id": "557d9c0e-e0f3-4222-9715-4cc80fedc136",
      "metadata": {
        "id": "557d9c0e-e0f3-4222-9715-4cc80fedc136"
      },
      "source": [
        "# PRACTICA 1. MOVIMIENTO RECTILINEO"
      ]
    },
    {
      "cell_type": "markdown",
      "id": "9ee350a8-bb73-4ed0-8cb5-10e06534768f",
      "metadata": {
        "id": "9ee350a8-bb73-4ed0-8cb5-10e06534768f"
      },
      "source": [
        "## Problema 1. [solucion]"
      ]
    },
    {
      "cell_type": "markdown",
      "id": "f33b497e-3193-456c-9bfb-e5167dfe3ad0",
      "metadata": {
        "editable": true,
        "tags": [],
        "id": "f33b497e-3193-456c-9bfb-e5167dfe3ad0"
      },
      "source": [
        "Se tiene que la ecuacion 1.\n",
        "$$x(t) = \\frac{2}{5} \\sin{2 \\pi t}  \\text{ $m$}$$\n",
        "es la posicion del punto $P$ en cualquier tiempo arbitrario $t$, por tanto su velocidad $v(t)$ sera su derivada respecto a $t$"
      ]
    },
    {
      "cell_type": "code",
      "execution_count": 19,
      "id": "b2b762fd-fcf4-4302-9686-90464b3935c9",
      "metadata": {
        "id": "b2b762fd-fcf4-4302-9686-90464b3935c9",
        "outputId": "2aa53fd8-ad99-4b69-a7e6-12eb3cf94755",
        "colab": {
          "base_uri": "https://localhost:8080/",
          "height": 40
        }
      },
      "outputs": [
        {
          "output_type": "execute_result",
          "data": {
            "text/latex": "$\\frac{4\\,\\pi \\,\\cos \\left(2\\,\\pi \\,t\\right)}{5}$"
          },
          "metadata": {},
          "execution_count": 19
        }
      ],
      "source": [
        "% Crear variable simbólica\n",
        "syms t;\n",
        "\n",
        "% Definir la función\n",
        "x = (2/5) * sin(2*t*pi);\n",
        "\n",
        "% Calcular la derivada\n",
        "v = diff(x, t);\n",
        "\n",
        "% Mostrar la derivada\n",
        "disp(v);\n"
      ]
    },
    {
      "cell_type": "markdown",
      "id": "76eec469-b05a-4191-916d-e349358627fc",
      "metadata": {
        "id": "76eec469-b05a-4191-916d-e349358627fc"
      },
      "source": [
        "por tanto $$ v(t) = \\frac{4\\,\\pi \\,\\cos \\left(2\\,\\pi \\,t\\right)}{5} \\text{ $m$/$s$} $$"
      ]
    },
    {
      "cell_type": "markdown",
      "id": "cfd0f1d6-9fa3-4513-884d-6d4a2a73b06e",
      "metadata": {
        "id": "cfd0f1d6-9fa3-4513-884d-6d4a2a73b06e"
      },
      "source": [
        "Evaluando en $t=0.375$"
      ]
    },
    {
      "cell_type": "code",
      "execution_count": 20,
      "id": "f86fc27e-7eb7-4c02-9363-af29f5f76137",
      "metadata": {
        "id": "f86fc27e-7eb7-4c02-9363-af29f5f76137",
        "outputId": "f08c28e9-238e-4428-ff42-e28c55e0f4e9",
        "colab": {
          "base_uri": "https://localhost:8080/"
        }
      },
      "outputs": [
        {
          "output_type": "stream",
          "name": "stdout",
          "text": [
            "   -1.7772\n",
            "\n"
          ]
        }
      ],
      "source": [
        "% Evaluando en t=0.375\n",
        "t_1 = subs(v, t, 0.375);\n",
        "t_1 = double(t_1);\n",
        "\n",
        "disp(t_1)"
      ]
    },
    {
      "cell_type": "markdown",
      "id": "b5329201-7d0d-4574-bab3-f0702081b404",
      "metadata": {
        "id": "b5329201-7d0d-4574-bab3-f0702081b404"
      },
      "source": [
        "luego $$ v(0.375) = -1.7772  $$"
      ]
    },
    {
      "cell_type": "code",
      "execution_count": 21,
      "id": "e58c2bba-38f2-48dc-b651-a21632de442d",
      "metadata": {
        "id": "e58c2bba-38f2-48dc-b651-a21632de442d",
        "outputId": "6ed75a6c-33f6-4583-bd27-c92383b83398",
        "colab": {
          "base_uri": "https://localhost:8080/",
          "height": 42
        }
      },
      "outputs": [
        {
          "output_type": "execute_result",
          "data": {
            "text/latex": "$-\\frac{8\\,\\pi^2 \\,\\sin \\left(2\\,\\pi \\,t\\right)}{5}$"
          },
          "metadata": {},
          "execution_count": 21
        }
      ],
      "source": [
        "% Derivando de nuevo respecto a t para obtener la aceleracoin\n",
        "a = diff(v,t);\n",
        "disp(a);"
      ]
    },
    {
      "cell_type": "markdown",
      "id": "b472d8a1-b157-4a1a-a099-988b58084288",
      "metadata": {
        "id": "b472d8a1-b157-4a1a-a099-988b58084288"
      },
      "source": [
        "$$ a(t) = -\\frac{8\\,\\pi^2 \\,\\sin \\left(2\\,\\pi \\,t\\right)}{5}  \\text{ $m$/$s^2$} $$"
      ]
    },
    {
      "cell_type": "markdown",
      "id": "eec6773c-3574-4dd2-97ec-2d7cc6d86b55",
      "metadata": {
        "id": "eec6773c-3574-4dd2-97ec-2d7cc6d86b55"
      },
      "source": [
        "Evaluando en $t = 0.375$"
      ]
    },
    {
      "cell_type": "code",
      "execution_count": 22,
      "id": "19cb63cb-68d0-4048-afb4-c14606e0738d",
      "metadata": {
        "id": "19cb63cb-68d0-4048-afb4-c14606e0738d",
        "outputId": "47641373-8eb5-486c-85b0-88f701fedc38",
        "colab": {
          "base_uri": "https://localhost:8080/"
        }
      },
      "outputs": [
        {
          "output_type": "stream",
          "name": "stdout",
          "text": [
            "  -11.1662\n",
            "\n"
          ]
        }
      ],
      "source": [
        "%evaluando\n",
        "t_0 = 0.375;\n",
        "t_1 = subs(a, t, t_0);\n",
        "% numerico\n",
        "t_1 = double(t_1);\n",
        "\n",
        "disp(t_1)"
      ]
    },
    {
      "cell_type": "markdown",
      "id": "2daaf9b4-c792-4195-b4f1-2fae7ed6159b",
      "metadata": {
        "id": "2daaf9b4-c792-4195-b4f1-2fae7ed6159b"
      },
      "source": [
        "$$ a(0.375) = -11.1662 \\text{ $m$/$s^2$} $$"
      ]
    },
    {
      "cell_type": "markdown",
      "id": "c381bc6e-08ea-4ade-8331-531a700bba39",
      "metadata": {
        "id": "c381bc6e-08ea-4ade-8331-531a700bba39"
      },
      "source": [
        "# Problema [Solucion]"
      ]
    },
    {
      "cell_type": "markdown",
      "id": "38c910c1-4a23-4036-8d5c-2e8444754d1b",
      "metadata": {
        "id": "38c910c1-4a23-4036-8d5c-2e8444754d1b"
      },
      "source": [
        "## Grafica de $x(t)$"
      ]
    },
    {
      "cell_type": "code",
      "execution_count": 23,
      "id": "12212a68-90ee-42ff-99a6-ff6baa103835",
      "metadata": {
        "id": "12212a68-90ee-42ff-99a6-ff6baa103835",
        "colab": {
          "base_uri": "https://localhost:8080/",
          "height": 437
        },
        "outputId": "82afa4c8-9ba1-409a-d7e8-9911506b28be"
      },
      "outputs": [
        {
          "output_type": "execute_result",
          "data": {
            "image/png": "[encoded data removed]"
          },
          "metadata": {},
          "execution_count": 23
        }
      ],
      "source": [
        "t = linspace (0, 2);\n",
        "\n",
        "x = (2/5) * sin(2*t*pi);\n",
        "\n",
        "plot(t, x);\n",
        "xlabel('t');\n",
        "ylabel('x(t)');\n",
        "title('Posicion de P respeto al tiempo')"
      ]
    },
    {
      "cell_type": "markdown",
      "source": [
        "# Grafica $v(x)$"
      ],
      "metadata": {
        "id": "vfe6wCYQU5S5"
      },
      "id": "vfe6wCYQU5S5"
    },
    {
      "cell_type": "code",
      "execution_count": 24,
      "id": "ef645c7a-bffd-471a-9101-b7bc1e73b11b",
      "metadata": {
        "id": "ef645c7a-bffd-471a-9101-b7bc1e73b11b",
        "colab": {
          "base_uri": "https://localhost:8080/",
          "height": 437
        },
        "outputId": "daf1420a-6573-47bb-ce68-b6c48ed6de00"
      },
      "outputs": [
        {
          "output_type": "execute_result",
          "data": {
            "image/png": "[encoded data removed]"
          },
          "metadata": {},
          "execution_count": 24
        }
      ],
      "source": [
        "v = -(4/5)*pi*cos(2*pi*t);\n",
        "\n",
        "plot(t, v);\n",
        "xlabel('t');\n",
        "ylabel('v(t)');\n",
        "title('Velocidad de P respecto al tiempo')"
      ]
    },
    {
      "cell_type": "markdown",
      "source": [
        "# Grafica $a(x)$"
      ],
      "metadata": {
        "id": "FcKJxj5xVPcp"
      },
      "id": "FcKJxj5xVPcp"
    },
    {
      "cell_type": "code",
      "source": [
        "a = -(8/5)*(pi^2)*sin(2*pi*t);\n",
        "\n",
        "plot(t, a);\n",
        "xlabel('t');\n",
        "ylabel('a(t)');\n",
        "title('Aceleracion de P respecto al tiempo')"
      ],
      "metadata": {
        "colab": {
          "base_uri": "https://localhost:8080/",
          "height": 437
        },
        "id": "_RsSkYo5UqtR",
        "outputId": "f27f7b04-ddfa-4266-da3e-cf7117e10a0d"
      },
      "id": "_RsSkYo5UqtR",
      "execution_count": 25,
      "outputs": [
        {
          "output_type": "execute_result",
          "data": {
            "image/png": "[encoded data removed]"
          },
          "metadata": {},
          "execution_count": 25
        }
      ]
    },
    {
      "cell_type": "markdown",
      "source": [
        "## Superposicion de las graficas"
      ],
      "metadata": {
        "id": "3w0ttuaMVuEr"
      },
      "id": "3w0ttuaMVuEr"
    },
    {
      "cell_type": "code",
      "source": [
        "plot(t, x, 'r', t, v, 'b', t, a, 'g');\n",
        "xlabel('t');\n",
        "ylabel('f(t)');\n",
        "legend('Posicion', 'Velocidad', 'Aceleracion');"
      ],
      "metadata": {
        "colab": {
          "base_uri": "https://localhost:8080/",
          "height": 437
        },
        "id": "8v-IrAsnVswx",
        "outputId": "8ccbeee3-e1e8-4469-9c79-59277ebaa74b"
      },
      "id": "8v-IrAsnVswx",
      "execution_count": 26,
      "outputs": [
        {
          "output_type": "execute_result",
          "data": {
            "image/png": "[encoded data removed]"
          },
          "metadata": {},
          "execution_count": 26
        }
      ]
    },
    {
      "cell_type": "code",
      "source": [],
      "metadata": {
        "id": "HrT_M46vV9MB"
      },
      "id": "HrT_M46vV9MB",
      "execution_count": 27,
      "outputs": []
    }
  ],
  "metadata": {
    "kernelspec": {
      "display_name": "MATLAB Kernel",
      "language": "matlab",
      "name": "jupyter_matlab_kernel"
    },
    "language_info": {
      "file_extension": ".m",
      "mimetype": "text/x-matlab",
      "name": "matlab"
    },
    "colab": {
      "provenance": [],
      "include_colab_link": true
    }
  },
  "nbformat": 4,
  "nbformat_minor": 5
}