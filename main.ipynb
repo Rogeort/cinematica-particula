{
  "cells": [
    {
      "cell_type": "markdown",
      "metadata": {
        "id": "view-in-github",
        "colab_type": "text"
      },
      "source": [
        "<a href=\"https://colab.research.google.com/github/Rogeort/cinematica-particula/blob/main/main.ipynb\" target=\"_parent\"><img src=\"https://colab.research.google.com/assets/colab-badge.svg\" alt=\"Open In Colab\"/></a>"
      ]
    },
    {
      "cell_type": "markdown",
      "id": "557d9c0e-e0f3-4222-9715-4cc80fedc136",
      "metadata": {
        "id": "557d9c0e-e0f3-4222-9715-4cc80fedc136"
      },
      "source": [
        "# PRACTICA 1. MOVIMIENTO RECTILINEO"
      ]
    },
    {
      "cell_type": "markdown",
      "id": "9ee350a8-bb73-4ed0-8cb5-10e06534768f",
      "metadata": {
        "id": "9ee350a8-bb73-4ed0-8cb5-10e06534768f"
      },
      "source": [
        "## Problema 1. [solucion]"
      ]
    },
    {
      "cell_type": "markdown",
      "id": "f33b497e-3193-456c-9bfb-e5167dfe3ad0",
      "metadata": {
        "editable": true,
        "tags": [],
        "id": "f33b497e-3193-456c-9bfb-e5167dfe3ad0"
      },
      "source": [
        "Se tiene que la ecuacion 1.\n",
        "$$x(t) = \\frac{2}{5} \\sin{2 \\pi t}  \\text{ $m$}$$\n",
        "es la posicion del punto $P$ en cualquier tiempo arbitrario $t$, por tanto su velocidad $v(t)$ sera su derivada respecto a $t$"
      ]
    },
    {
      "cell_type": "code",
      "execution_count": null,
      "id": "b2b762fd-fcf4-4302-9686-90464b3935c9",
      "metadata": {
        "id": "b2b762fd-fcf4-4302-9686-90464b3935c9",
        "outputId": "80b43a7b-d3c0-4f95-fe82-1969820bb5d4"
      },
      "outputs": [
        {
          "data": {
            "text/latex": [
              "$\\frac{4\\,\\pi \\,\\cos \\left(2\\,\\pi \\,t\\right)}{5}$"
            ]
          },
          "execution_count": 1,
          "metadata": {},
          "output_type": "execute_result"
        }
      ],
      "source": [
        "% Crear variable simbólica\n",
        "syms t;\n",
        "\n",
        "% Definir la función\n",
        "x = (2/5) * sin(2*t*pi);\n",
        "\n",
        "% Calcular la derivada\n",
        "v = diff(x, t);\n",
        "\n",
        "% Mostrar la derivada\n",
        "disp(v);\n"
      ]
    },
    {
      "cell_type": "markdown",
      "id": "76eec469-b05a-4191-916d-e349358627fc",
      "metadata": {
        "id": "76eec469-b05a-4191-916d-e349358627fc"
      },
      "source": [
        "por tanto $$ v(t) = \\frac{4\\,\\pi \\,\\cos \\left(2\\,\\pi \\,t\\right)}{5} \\text{ $m$/$s$} $$"
      ]
    },
    {
      "cell_type": "markdown",
      "id": "cfd0f1d6-9fa3-4513-884d-6d4a2a73b06e",
      "metadata": {
        "id": "cfd0f1d6-9fa3-4513-884d-6d4a2a73b06e"
      },
      "source": [
        "Evaluando en $t=0.375$"
      ]
    },
    {
      "cell_type": "code",
      "execution_count": null,
      "id": "f86fc27e-7eb7-4c02-9363-af29f5f76137",
      "metadata": {
        "id": "f86fc27e-7eb7-4c02-9363-af29f5f76137",
        "outputId": "0c3a0e02-af67-459a-dcb2-84f9856177ca"
      },
      "outputs": [
        {
          "name": "stdout",
          "output_type": "stream",
          "text": [
            "   -1.7772\n",
            "\n"
          ]
        }
      ],
      "source": [
        "% Evaluando en t=0.375\n",
        "t_1 = subs(v, t, 0.375);\n",
        "t_1 = double(t_1);\n",
        "\n",
        "disp(t_1)"
      ]
    },
    {
      "cell_type": "markdown",
      "id": "b5329201-7d0d-4574-bab3-f0702081b404",
      "metadata": {
        "id": "b5329201-7d0d-4574-bab3-f0702081b404"
      },
      "source": [
        "luego $$ v(0.375) = -1.7772  $$"
      ]
    },
    {
      "cell_type": "code",
      "execution_count": null,
      "id": "e58c2bba-38f2-48dc-b651-a21632de442d",
      "metadata": {
        "id": "e58c2bba-38f2-48dc-b651-a21632de442d",
        "outputId": "76a1f6a8-81bf-4897-c2e8-c8828838b0ff"
      },
      "outputs": [
        {
          "data": {
            "text/latex": [
              "$-\\frac{8\\,\\pi^2 \\,\\sin \\left(2\\,\\pi \\,t\\right)}{5}$"
            ]
          },
          "execution_count": 3,
          "metadata": {},
          "output_type": "execute_result"
        }
      ],
      "source": [
        "% Derivando de nuevo respecto a t para obtener la aceleracoin\n",
        "a = diff(v,t);\n",
        "disp(a);"
      ]
    },
    {
      "cell_type": "markdown",
      "id": "b472d8a1-b157-4a1a-a099-988b58084288",
      "metadata": {
        "id": "b472d8a1-b157-4a1a-a099-988b58084288"
      },
      "source": [
        "$$ a(t) = -\\frac{8\\,\\pi^2 \\,\\sin \\left(2\\,\\pi \\,t\\right)}{5}  \\text{ $m$/$s^2$} $$"
      ]
    },
    {
      "cell_type": "markdown",
      "id": "eec6773c-3574-4dd2-97ec-2d7cc6d86b55",
      "metadata": {
        "id": "eec6773c-3574-4dd2-97ec-2d7cc6d86b55"
      },
      "source": [
        "Evaluando en $t = 0.375$"
      ]
    },
    {
      "cell_type": "code",
      "execution_count": null,
      "id": "19cb63cb-68d0-4048-afb4-c14606e0738d",
      "metadata": {
        "id": "19cb63cb-68d0-4048-afb4-c14606e0738d",
        "outputId": "9bcf8edf-5bce-40cc-d12b-ac2b2c94760c"
      },
      "outputs": [
        {
          "name": "stdout",
          "output_type": "stream",
          "text": [
            "  -11.1662\n",
            "\n"
          ]
        }
      ],
      "source": [
        "%evaluando\n",
        "t_0 = 0.375;\n",
        "t_1 = subs(a, t, t_0);\n",
        "% numerico\n",
        "t_1 = double(t_1);\n",
        "\n",
        "disp(t_1)"
      ]
    },
    {
      "cell_type": "markdown",
      "id": "2daaf9b4-c792-4195-b4f1-2fae7ed6159b",
      "metadata": {
        "id": "2daaf9b4-c792-4195-b4f1-2fae7ed6159b"
      },
      "source": [
        "$$ a(0.375) = -11.1662 \\text{ $m$/$s^2$} $$"
      ]
    },
    {
      "cell_type": "markdown",
      "id": "c381bc6e-08ea-4ade-8331-531a700bba39",
      "metadata": {
        "id": "c381bc6e-08ea-4ade-8331-531a700bba39"
      },
      "source": [
        "# Problema [Solucion]"
      ]
    },
    {
      "cell_type": "markdown",
      "id": "38c910c1-4a23-4036-8d5c-2e8444754d1b",
      "metadata": {
        "id": "38c910c1-4a23-4036-8d5c-2e8444754d1b"
      },
      "source": [
        "## Grafica de $(v(t)$"
      ]
    },
    {
      "cell_type": "code",
      "execution_count": 19,
      "id": "12212a68-90ee-42ff-99a6-ff6baa103835",
      "metadata": {
        "id": "12212a68-90ee-42ff-99a6-ff6baa103835"
      },
      "outputs": [],
      "source": [
        "\n"
      ]
    },
    {
      "cell_type": "code",
      "execution_count": null,
      "id": "ef645c7a-bffd-471a-9101-b7bc1e73b11b",
      "metadata": {
        "id": "ef645c7a-bffd-471a-9101-b7bc1e73b11b"
      },
      "outputs": [],
      "source": []
    }
  ],
  "metadata": {
    "kernelspec": {
      "display_name": "MATLAB Kernel",
      "language": "matlab",
      "name": "jupyter_matlab_kernel"
    },
    "language_info": {
      "file_extension": ".m",
      "mimetype": "text/x-matlab",
      "name": "matlab"
    },
    "colab": {
      "provenance": [],
      "include_colab_link": true
    }
  },
  "nbformat": 4,
  "nbformat_minor": 5
}