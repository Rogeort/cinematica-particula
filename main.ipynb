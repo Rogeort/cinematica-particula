{
  "cells": [
    {
      "cell_type": "markdown",
      "metadata": {
        "id": "view-in-github",
        "colab_type": "text"
      },
      "source": [
        "<a href=\"https://colab.research.google.com/github/Rogeort/cinematica-particula/blob/main/main.ipynb\" target=\"_parent\"><img src=\"https://colab.research.google.com/assets/colab-badge.svg\" alt=\"Open In Colab\"/></a>"
      ]
    },
    {
      "cell_type": "markdown",
      "id": "557d9c0e-e0f3-4222-9715-4cc80fedc136",
      "metadata": {
        "id": "557d9c0e-e0f3-4222-9715-4cc80fedc136"
      },
      "source": [
        "# PRACTICA 1. MOVIMIENTO RECTILINEO"
      ]
    },
    {
      "cell_type": "markdown",
      "id": "9ee350a8-bb73-4ed0-8cb5-10e06534768f",
      "metadata": {
        "id": "9ee350a8-bb73-4ed0-8cb5-10e06534768f"
      },
      "source": [
        "## Problema 1. [solucion]"
      ]
    },
    {
      "cell_type": "markdown",
      "id": "f33b497e-3193-456c-9bfb-e5167dfe3ad0",
      "metadata": {
        "editable": true,
        "tags": [],
        "id": "f33b497e-3193-456c-9bfb-e5167dfe3ad0"
      },
      "source": [
        "Se tiene que la ecuacion 1.\n",
        "$$x(t) = \\frac{2}{5} \\sin{2 \\pi t}  \\text{ $m$}$$\n",
        "es la posicion del punto $P$ en cualquier tiempo arbitrario $t$, por tanto su velocidad $v(t)$ sera su derivada respecto a $t$"
      ]
    },
    {
      "cell_type": "code",
      "execution_count": null,
      "id": "b2b762fd-fcf4-4302-9686-90464b3935c9",
      "metadata": {
        "id": "b2b762fd-fcf4-4302-9686-90464b3935c9",
        "outputId": "80b43a7b-d3c0-4f95-fe82-1969820bb5d4"
      },
      "outputs": [
        {
          "data": {
            "text/latex": [
              "$\\frac{4\\,\\pi \\,\\cos \\left(2\\,\\pi \\,t\\right)}{5}$"
            ]
          },
          "execution_count": 1,
          "metadata": {},
          "output_type": "execute_result"
        }
      ],
      "source": [
        "% Crear variable simbólica\n",
        "syms t;\n",
        "\n",
        "% Definir la función\n",
        "x = (2/5) * sin(2*t*pi);\n",
        "\n",
        "% Calcular la derivada\n",
        "v = diff(x, t);\n",
        "\n",
        "% Mostrar la derivada\n",
        "disp(v);"
      ]
    },
    {
      "cell_type": "markdown",
      "id": "76eec469-b05a-4191-916d-e349358627fc",
      "metadata": {
        "id": "76eec469-b05a-4191-916d-e349358627fc"
      },
      "source": [
        "por tanto $$ v(t) = \\frac{4\\,\\pi \\,\\cos \\left(2\\,\\pi \\,t\\right)}{5} \\text{ $m$/$s$} $$"
      ]
    },
    {
      "cell_type": "markdown",
      "id": "cfd0f1d6-9fa3-4513-884d-6d4a2a73b06e",
      "metadata": {
        "id": "cfd0f1d6-9fa3-4513-884d-6d4a2a73b06e"
      },
      "source": [
        "Evaluando en $t=0.375$"
      ]
    },
    {
      "cell_type": "code",
      "execution_count": null,
      "id": "f86fc27e-7eb7-4c02-9363-af29f5f76137",
      "metadata": {
        "id": "f86fc27e-7eb7-4c02-9363-af29f5f76137",
        "outputId": "0c3a0e02-af67-459a-dcb2-84f9856177ca"
      },
      "outputs": [
        {
          "name": "stdout",
          "output_type": "stream",
          "text": [
            "   -1.7772\n",
            "\n"
          ]
        }
      ],
      "source": [
        "% Evaluando en t=0.375\n",
        "t_1 = subs(v, t, 0.375);\n",
        "t_1 = double(t_1);\n",
        "\n",
        "disp(t_1)"
      ]
    },
    {
      "cell_type": "markdown",
      "id": "b5329201-7d0d-4574-bab3-f0702081b404",
      "metadata": {
        "id": "b5329201-7d0d-4574-bab3-f0702081b404"
      },
      "source": [
        "luego $$ v(0.375) = -1.7772  $$"
      ]
    },
    {
      "cell_type": "code",
      "execution_count": null,
      "id": "e58c2bba-38f2-48dc-b651-a21632de442d",
      "metadata": {
        "id": "e58c2bba-38f2-48dc-b651-a21632de442d",
        "outputId": "76a1f6a8-81bf-4897-c2e8-c8828838b0ff"
      },
      "outputs": [
        {
          "data": {
            "text/latex": [
              "$-\\frac{8\\,\\pi^2 \\,\\sin \\left(2\\,\\pi \\,t\\right)}{5}$"
            ]
          },
          "execution_count": 3,
          "metadata": {},
          "output_type": "execute_result"
        }
      ],
      "source": [
        "% Derivando de nuevo respecto a t para obtener la aceleracoin\n",
        "a = diff(v,t);\n",
        "disp(a);"
      ]
    },
    {
      "cell_type": "markdown",
      "id": "b472d8a1-b157-4a1a-a099-988b58084288",
      "metadata": {
        "id": "b472d8a1-b157-4a1a-a099-988b58084288"
      },
      "source": [
        "$$ a(t) = -\\frac{8\\,\\pi^2 \\,\\sin \\left(2\\,\\pi \\,t\\right)}{5}  \\text{ $m$/$s^2$} $$"
      ]
    },
    {
      "cell_type": "markdown",
      "id": "eec6773c-3574-4dd2-97ec-2d7cc6d86b55",
      "metadata": {
        "id": "eec6773c-3574-4dd2-97ec-2d7cc6d86b55"
      },
      "source": [
        "Evaluando en $t = 0.375$"
      ]
    },
    {
      "cell_type": "code",
      "execution_count": null,
      "id": "19cb63cb-68d0-4048-afb4-c14606e0738d",
      "metadata": {
        "id": "19cb63cb-68d0-4048-afb4-c14606e0738d",
        "outputId": "9bcf8edf-5bce-40cc-d12b-ac2b2c94760c"
      },
      "outputs": [
        {
          "name": "stdout",
          "output_type": "stream",
          "text": [
            "  -11.1662\n",
            "\n"
          ]
        }
      ],
      "source": [
        "%evaluando\n",
        "t_0 = 0.375;\n",
        "t_1 = subs(a, t, t_0);\n",
        "% numerico\n",
        "t_1 = double(t_1);\n",
        "\n",
        "disp(t_1)"
      ]
    },
    {
      "cell_type": "markdown",
      "id": "2daaf9b4-c792-4195-b4f1-2fae7ed6159b",
      "metadata": {
        "id": "2daaf9b4-c792-4195-b4f1-2fae7ed6159b"
      },
      "source": [
        "$$ a(0.375) = -11.1662 \\text{ $m$/$s^2$} $$"
      ]
    },
    {
      "cell_type": "markdown",
      "id": "c381bc6e-08ea-4ade-8331-531a700bba39",
      "metadata": {
        "id": "c381bc6e-08ea-4ade-8331-531a700bba39"
      },
      "source": [
        "# Problema [Solucion]. Intervalo $0\\leq t \\leq 2 $"
      ]
    },
    {
      "cell_type": "markdown",
      "id": "38c910c1-4a23-4036-8d5c-2e8444754d1b",
      "metadata": {
        "id": "38c910c1-4a23-4036-8d5c-2e8444754d1b"
      },
      "source": [
        "## Grafica de $x(t)$"
      ]
    },
    {
      "cell_type": "code",
      "execution_count": 2,
      "id": "12212a68-90ee-42ff-99a6-ff6baa103835",
      "metadata": {
        "id": "12212a68-90ee-42ff-99a6-ff6baa103835",
        "outputId": "078ef45f-1a46-4315-82ef-a305ccde1c0a",
        "colab": {
          "base_uri": "https://localhost:8080/",
          "height": 437
        }
      },
      "outputs": [
        {
          "output_type": "execute_result",
          "data": {
            "image/png": "[encoded data removed]"
          },
          "metadata": {},
          "execution_count": 2
        }
      ],
      "source": [
        "\n",
        "% Definir el rango de tiempo\n",
        "t = linspace(0, 2, 1000);\n",
        "\n",
        "% Definir la función x(t)\n",
        "x = (2/5) * sin(2 * pi * t);\n",
        "\n",
        "% Graficar la función\n",
        "figure;\n",
        "plot(t, x, 'b', 'LineWidth', 2);\n",
        "xlabel('t');\n",
        "ylabel('x(t)');\n",
        "title('Gráfica de x(t) = (2/5) sin(2\\pi t)');\n",
        "grid on;"
      ]
    },
    {
      "cell_type": "markdown",
      "source": [
        "## Grafica $v(t)$ en el intervalo"
      ],
      "metadata": {
        "id": "nK2JTBWPlYD4"
      },
      "id": "nK2JTBWPlYD4"
    },
    {
      "cell_type": "code",
      "source": [
        "\n",
        "\n",
        "% Definir la función v(t)\n",
        "v = (4 * pi / 5) * cos(2 * pi * t);\n",
        "\n",
        "% Graficar la función\n",
        "figure;\n",
        "plot(t, v, 'r', 'LineWidth', 2);\n",
        "xlabel('t');\n",
        "ylabel('v(t)');\n",
        "title('Gráfica de v(t) = (4\\pi / 5) \\cos(2\\pi t)');\n",
        "grid on;"
      ],
      "metadata": {
        "id": "kX_TKCDmltWR",
        "outputId": "c5d83675-cd0c-4de5-f7ad-c8c1c52d19b0",
        "colab": {
          "base_uri": "https://localhost:8080/",
          "height": 437
        }
      },
      "id": "kX_TKCDmltWR",
      "execution_count": 3,
      "outputs": [
        {
          "output_type": "execute_result",
          "data": {
            "image/png": "[encoded data removed]"
          },
          "metadata": {},
          "execution_count": 3
        }
      ]
    },
    {
      "cell_type": "markdown",
      "source": [
        "## Grafica $a(t)$ en el intervalo"
      ],
      "metadata": {
        "id": "dZdwqh5NmJeU"
      },
      "id": "dZdwqh5NmJeU"
    },
    {
      "cell_type": "code",
      "source": [
        "\n",
        "\n",
        "\n",
        "% Definir la función a(t)\n",
        "a = -(8 * pi^2 / 5) * sin(2 * pi * t);\n",
        "\n",
        "% Graficar la función\n",
        "figure;\n",
        "plot(t, a, 'g', 'LineWidth', 2);\n",
        "xlabel('t');\n",
        "ylabel('a(t)');\n",
        "title('Gráfica de a(t) = -(8\\pi^2 / 5) \\sin(2\\pi t)');\n",
        "grid on;"
      ],
      "metadata": {
        "id": "Ir7ufYe-mjzN",
        "outputId": "23a112e2-eda0-4b07-ac0f-fe3e7983749c",
        "colab": {
          "base_uri": "https://localhost:8080/",
          "height": 437
        }
      },
      "id": "Ir7ufYe-mjzN",
      "execution_count": 4,
      "outputs": [
        {
          "output_type": "execute_result",
          "data": {
            "image/png": "[encoded data removed]"
          },
          "metadata": {},
          "execution_count": 4
        }
      ]
    },
    {
      "cell_type": "markdown",
      "source": [
        "## Graficas superpuestas"
      ],
      "metadata": {
        "id": "pLvChsOtErT0"
      },
      "id": "pLvChsOtErT0"
    },
    {
      "cell_type": "code",
      "source": [
        "figure;\n",
        "plot(t, x, t, v, t, a);\n",
        "xlabel(\"t\");"
      ],
      "metadata": {
        "id": "Md9aufZYE6j0",
        "outputId": "77abc231-cf19-4c73-a9dc-e601a0cc079c",
        "colab": {
          "base_uri": "https://localhost:8080/",
          "height": 437
        }
      },
      "id": "Md9aufZYE6j0",
      "execution_count": 8,
      "outputs": [
        {
          "output_type": "execute_result",
          "data": {
            "image/png": "[encoded data removed]"
          },
          "metadata": {},
          "execution_count": 8
        }
      ]
    },
    {
      "cell_type": "code",
      "source": [],
      "metadata": {
        "id": "-HrSUC9TFC2s"
      },
      "id": "-HrSUC9TFC2s",
      "execution_count": null,
      "outputs": []
    }
  ],
  "metadata": {
    "kernelspec": {
      "display_name": "MATLAB Kernel",
      "language": "matlab",
      "name": "jupyter_matlab_kernel"
    },
    "language_info": {
      "file_extension": ".m",
      "mimetype": "text/x-matlab",
      "name": "matlab"
    },
    "colab": {
      "provenance": [],
      "gpuType": "T4",
      "include_colab_link": true
    },
    "accelerator": "GPU"
  },
  "nbformat": 4,
  "nbformat_minor": 5
}